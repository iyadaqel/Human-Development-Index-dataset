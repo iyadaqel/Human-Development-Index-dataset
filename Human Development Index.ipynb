{
 "cells": [
  {
   "cell_type": "code",
   "execution_count": 31,
   "metadata": {},
   "outputs": [],
   "source": [
    "#Loading all the different files and merging them in one dataset \n",
    "\n",
    "import pandas as pd \n",
    "import os\n",
    "import re \n",
    "import numpy as np\n",
    "\n",
    "input_path = \"./input_data/HDI/\"\n",
    "output_path = \"./output_data/HDI\"\n",
    "os.makedirs(output_path, exist_ok=True)\n",
    "\n",
    "dict_df = {}\n",
    "for root,dirs,files in os.walk(input_path):\n",
    "    for file in files:\n",
    "        if file.endswith(\".csv\"):\n",
    "            file_name = file[:-4]\n",
    "            dict_df[file_name] = pd.read_csv(input_path + file)"
   ]
  },
  {
   "cell_type": "code",
   "execution_count": 32,
   "metadata": {},
   "outputs": [],
   "source": [
    "#Check the years of the different files and delete those df with no years associated with their data \n",
    "df_with_no_year = {}\n",
    "for key in list(dict_df.keys()):\n",
    "    if('Unnamed: 3' in dict_df[key].columns):\n",
    "        df_with_no_year[key] = dict_df[key]\n",
    "        del dict_df[key]"
   ]
  },
  {
   "cell_type": "code",
   "execution_count": 33,
   "metadata": {},
   "outputs": [],
   "source": [
    "#Joining all the dataframes in one dataframe with unified headers\n",
    "all_data = pd.DataFrame({})\n",
    "for k,v in dict_df.items():\n",
    "    v['kpi_name'] = k\n",
    "    v.drop(['Unnamed: 0', 'HDI Rank'], inplace=True , axis=1)\n",
    "    v = v.melt(id_vars=['Country' , 'kpi_name'])\n",
    "    v.columns = ['country_id' , 'kpi_name' , 'year' , 'value' ]\n",
    "    all_data = all_data.append(v)"
   ]
  },
  {
   "cell_type": "code",
   "execution_count": 34,
   "metadata": {},
   "outputs": [],
   "source": [
    "#Additional rows with null countries were found in thh data. From the source, we will remove those. \n",
    "#Checking for values with character and removing those characters \n",
    "\n",
    "all_data = all_data[all_data['country_id'].notnull()]\n",
    "all_data['year'] = all_data['year'].astype(int)\n",
    "all_data['value'] = all_data['value'].astype(str)\n",
    "all_data[\"value\"] = [''.join(re.findall(\"\\d*\\.?\\d+\", item)) for item in all_data[\"value\"]]"
   ]
  },
  {
   "cell_type": "code",
   "execution_count": 35,
   "metadata": {},
   "outputs": [],
   "source": [
    "all_data = pd.pivot_table(all_data , index=['kpi_name' , 'country_id'] , columns='year', aggfunc='first')\n",
    "all_data = all_data.reset_index()\n",
    "all_data.columns = all_data.columns.droplevel()\n",
    "all_data.columns = ['kpi_name' , 'country'] + all_data.columns[2:].tolist()"
   ]
  },
  {
   "cell_type": "code",
   "execution_count": 36,
   "metadata": {},
   "outputs": [],
   "source": [
    "#Saving Original file \n",
    "original_csv_name = output_path + \"/HDI_complete.csv\"\n",
    "all_data.to_csv(original_csv_name , index=False)"
   ]
  }
 ],
 "metadata": {
  "kernelspec": {
   "display_name": "Python 3",
   "language": "python",
   "name": "python3"
  },
  "language_info": {
   "codemirror_mode": {
    "name": "ipython",
    "version": 3
   },
   "file_extension": ".py",
   "mimetype": "text/x-python",
   "name": "python",
   "nbconvert_exporter": "python",
   "pygments_lexer": "ipython3",
   "version": "3.6.3"
  }
 },
 "nbformat": 4,
 "nbformat_minor": 2
}
